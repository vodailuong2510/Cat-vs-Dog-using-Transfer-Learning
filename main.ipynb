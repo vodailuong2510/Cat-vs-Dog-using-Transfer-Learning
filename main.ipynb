{
  "cells": [
    {
      "cell_type": "code",
      "execution_count": null,
      "metadata": {
        "id": "ZDNFN15V4yDk",
        "outputId": "c4d6aad7-6586-44c7-b429-4d4b81e15db0"
      },
      "outputs": [
        {
          "data": {
            "text/plain": [
              "'./cats_and_dogs_filtered.zip'"
            ]
          },
          "execution_count": 13,
          "metadata": {},
          "output_type": "execute_result"
        }
      ],
      "source": [
        "import wget\n",
        "\n",
        "url = \"https://storage.googleapis.com/mledu-datasets/cats_and_dogs_filtered.zip\"\n",
        "output_file = \"./cats_and_dogs_filtered.zip\"\n",
        "\n",
        "wget.download(url, out=output_file)"
      ]
    },
    {
      "cell_type": "code",
      "execution_count": 3,
      "metadata": {
        "colab": {
          "base_uri": "https://localhost:8080/"
        },
        "id": "lb0W3scz4yDl",
        "outputId": "0adaff61-1b4f-424d-94f1-bde893b630d0"
      },
      "outputs": [
        {
          "output_type": "stream",
          "name": "stdout",
          "text": [
            "Found 2010 images belonging to 2 classes.\n",
            "Found 1000 images belonging to 2 classes.\n"
          ]
        }
      ],
      "source": [
        "train_folder = './data/cats_and_dogs/train'\n",
        "valid_folder = './data/cats_and_dogs/validation'\n",
        "\n",
        "from tensorflow.keras.preprocessing.image import ImageDataGenerator\n",
        "\n",
        "train_generator = ImageDataGenerator(rescale = 1/255.0,\n",
        "                                     rotation_range = 20,\n",
        "                                     width_shift_range = 0.2,\n",
        "                                     height_shift_range = 0.2,\n",
        "                                     shear_range = 0.2,\n",
        "                                     zoom_range = 0.2,\n",
        "                                     horizontal_flip = True)\n",
        "\n",
        "valid_generator = ImageDataGenerator(rescale = 1/255.0)\n",
        "\n",
        "generated_train_data = train_generator.flow_from_directory(train_folder,\n",
        "                                                           batch_size = 64,\n",
        "                                                           class_mode = 'binary',\n",
        "                                                           target_size = (150, 150))\n",
        "generated_valid_data = valid_generator.flow_from_directory(valid_folder,\n",
        "                                                           batch_size = 64,\n",
        "                                                           class_mode = 'binary',\n",
        "                                                           target_size = (150, 150))"
      ]
    },
    {
      "cell_type": "code",
      "execution_count": 4,
      "metadata": {
        "id": "XyQJnqn44yDm"
      },
      "outputs": [],
      "source": [
        "from tensorflow.keras.applications import VGG16\n",
        "from tensorflow.keras.models import Sequential, Model\n",
        "from tensorflow.keras.layers import Dense, Flatten, Dropout"
      ]
    },
    {
      "cell_type": "code",
      "execution_count": 5,
      "metadata": {
        "id": "WLxUGx394yDm",
        "colab": {
          "base_uri": "https://localhost:8080/"
        },
        "outputId": "9ee03326-ce61-4a1b-b5e5-dd9efcc2f3e4"
      },
      "outputs": [
        {
          "output_type": "stream",
          "name": "stdout",
          "text": [
            "Downloading data from https://storage.googleapis.com/tensorflow/keras-applications/vgg16/vgg16_weights_tf_dim_ordering_tf_kernels_notop.h5\n",
            "58889256/58889256 [==============================] - 0s 0us/step\n"
          ]
        }
      ],
      "source": [
        "pre_trained_model = VGG16(weights = 'imagenet', include_top = False, input_shape = (150, 150, 3))"
      ]
    },
    {
      "cell_type": "code",
      "execution_count": 6,
      "metadata": {
        "colab": {
          "base_uri": "https://localhost:8080/"
        },
        "id": "8PqwMpKh4yDm",
        "outputId": "73ab4a35-a368-4efc-8cdd-626677e029d6"
      },
      "outputs": [
        {
          "output_type": "stream",
          "name": "stdout",
          "text": [
            "Model: \"vgg16\"\n",
            "_________________________________________________________________\n",
            " Layer (type)                Output Shape              Param #   \n",
            "=================================================================\n",
            " input_1 (InputLayer)        [(None, 150, 150, 3)]     0         \n",
            "                                                                 \n",
            " block1_conv1 (Conv2D)       (None, 150, 150, 64)      1792      \n",
            "                                                                 \n",
            " block1_conv2 (Conv2D)       (None, 150, 150, 64)      36928     \n",
            "                                                                 \n",
            " block1_pool (MaxPooling2D)  (None, 75, 75, 64)        0         \n",
            "                                                                 \n",
            " block2_conv1 (Conv2D)       (None, 75, 75, 128)       73856     \n",
            "                                                                 \n",
            " block2_conv2 (Conv2D)       (None, 75, 75, 128)       147584    \n",
            "                                                                 \n",
            " block2_pool (MaxPooling2D)  (None, 37, 37, 128)       0         \n",
            "                                                                 \n",
            " block3_conv1 (Conv2D)       (None, 37, 37, 256)       295168    \n",
            "                                                                 \n",
            " block3_conv2 (Conv2D)       (None, 37, 37, 256)       590080    \n",
            "                                                                 \n",
            " block3_conv3 (Conv2D)       (None, 37, 37, 256)       590080    \n",
            "                                                                 \n",
            " block3_pool (MaxPooling2D)  (None, 18, 18, 256)       0         \n",
            "                                                                 \n",
            " block4_conv1 (Conv2D)       (None, 18, 18, 512)       1180160   \n",
            "                                                                 \n",
            " block4_conv2 (Conv2D)       (None, 18, 18, 512)       2359808   \n",
            "                                                                 \n",
            " block4_conv3 (Conv2D)       (None, 18, 18, 512)       2359808   \n",
            "                                                                 \n",
            " block4_pool (MaxPooling2D)  (None, 9, 9, 512)         0         \n",
            "                                                                 \n",
            " block5_conv1 (Conv2D)       (None, 9, 9, 512)         2359808   \n",
            "                                                                 \n",
            " block5_conv2 (Conv2D)       (None, 9, 9, 512)         2359808   \n",
            "                                                                 \n",
            " block5_conv3 (Conv2D)       (None, 9, 9, 512)         2359808   \n",
            "                                                                 \n",
            " block5_pool (MaxPooling2D)  (None, 4, 4, 512)         0         \n",
            "                                                                 \n",
            "=================================================================\n",
            "Total params: 14714688 (56.13 MB)\n",
            "Trainable params: 0 (0.00 Byte)\n",
            "Non-trainable params: 14714688 (56.13 MB)\n",
            "_________________________________________________________________\n"
          ]
        }
      ],
      "source": [
        "for layer in pre_trained_model.layers:\n",
        "    layer.trainable = False\n",
        "pre_trained_model.summary()"
      ]
    },
    {
      "cell_type": "code",
      "execution_count": 7,
      "metadata": {
        "colab": {
          "base_uri": "https://localhost:8080/"
        },
        "id": "d2wkKZA-4yDm",
        "outputId": "c4b82c6e-4568-4b00-8a00-bbf19151c5f3"
      },
      "outputs": [
        {
          "output_type": "stream",
          "name": "stdout",
          "text": [
            "Model: \"sequential\"\n",
            "_________________________________________________________________\n",
            " Layer (type)                Output Shape              Param #   \n",
            "=================================================================\n",
            " vgg16 (Functional)          (None, 4, 4, 512)         14714688  \n",
            "                                                                 \n",
            " flatten (Flatten)           (None, 8192)              0         \n",
            "                                                                 \n",
            " dense (Dense)               (None, 1024)              8389632   \n",
            "                                                                 \n",
            " dropout (Dropout)           (None, 1024)              0         \n",
            "                                                                 \n",
            " dense_1 (Dense)             (None, 1)                 1025      \n",
            "                                                                 \n",
            "=================================================================\n",
            "Total params: 23105345 (88.14 MB)\n",
            "Trainable params: 8390657 (32.01 MB)\n",
            "Non-trainable params: 14714688 (56.13 MB)\n",
            "_________________________________________________________________\n"
          ]
        }
      ],
      "source": [
        "model = Sequential()\n",
        "model.add(pre_trained_model)\n",
        "model.add(Flatten())\n",
        "model.add(Dense(1024, activation = 'relu'))\n",
        "model.add(Dropout(0.2))\n",
        "model.add(Dense(1, activation = 'sigmoid'))\n",
        "model.summary()"
      ]
    },
    {
      "cell_type": "code",
      "execution_count": 8,
      "metadata": {
        "colab": {
          "base_uri": "https://localhost:8080/"
        },
        "id": "Knn7tXdV4yDm",
        "outputId": "c462a922-ba43-40b8-bf01-757bfb662cf4"
      },
      "outputs": [
        {
          "output_type": "stream",
          "name": "stdout",
          "text": [
            "Epoch 1/10\n",
            "32/32 [==============================] - 460s 14s/step - loss: 0.7429 - accuracy: 0.7438 - val_loss: 0.3188 - val_accuracy: 0.8630\n",
            "Epoch 2/10\n",
            "32/32 [==============================] - 36s 1s/step - loss: 0.3688 - accuracy: 0.8249 - val_loss: 0.2806 - val_accuracy: 0.8720\n",
            "Epoch 3/10\n",
            "32/32 [==============================] - 32s 989ms/step - loss: 0.3261 - accuracy: 0.8602 - val_loss: 0.3234 - val_accuracy: 0.8630\n",
            "Epoch 4/10\n",
            "32/32 [==============================] - 32s 989ms/step - loss: 0.3269 - accuracy: 0.8502 - val_loss: 0.2620 - val_accuracy: 0.8920\n",
            "Epoch 5/10\n",
            "32/32 [==============================] - 32s 1s/step - loss: 0.3266 - accuracy: 0.8592 - val_loss: 0.2501 - val_accuracy: 0.8880\n",
            "Epoch 6/10\n",
            "32/32 [==============================] - 34s 1s/step - loss: 0.2827 - accuracy: 0.8851 - val_loss: 0.2632 - val_accuracy: 0.8940\n",
            "Epoch 7/10\n",
            "32/32 [==============================] - 31s 979ms/step - loss: 0.3028 - accuracy: 0.8667 - val_loss: 0.2947 - val_accuracy: 0.8740\n",
            "Epoch 8/10\n",
            "32/32 [==============================] - 31s 958ms/step - loss: 0.2828 - accuracy: 0.8716 - val_loss: 0.2635 - val_accuracy: 0.8920\n",
            "Epoch 9/10\n",
            "32/32 [==============================] - 30s 949ms/step - loss: 0.2814 - accuracy: 0.8766 - val_loss: 0.2547 - val_accuracy: 0.8950\n",
            "Epoch 10/10\n",
            "32/32 [==============================] - 36s 1s/step - loss: 0.2950 - accuracy: 0.8692 - val_loss: 0.2655 - val_accuracy: 0.8920\n"
          ]
        },
        {
          "output_type": "execute_result",
          "data": {
            "text/plain": [
              "<keras.src.callbacks.History at 0x7c3746da3f70>"
            ]
          },
          "metadata": {},
          "execution_count": 8
        }
      ],
      "source": [
        "model.compile(optimizer = 'adam', loss = 'binary_crossentropy', metrics = ['accuracy'])\n",
        "model.fit(generated_train_data, validation_data = generated_valid_data, epochs = 10, verbose = 1)"
      ]
    }
  ],
  "metadata": {
    "colab": {
      "provenance": [],
      "gpuType": "T4"
    },
    "kernelspec": {
      "display_name": "Python 3",
      "name": "python3"
    },
    "language_info": {
      "codemirror_mode": {
        "name": "ipython",
        "version": 3
      },
      "file_extension": ".py",
      "mimetype": "text/x-python",
      "name": "python",
      "nbconvert_exporter": "python",
      "pygments_lexer": "ipython3",
      "version": "3.11.8"
    },
    "accelerator": "GPU"
  },
  "nbformat": 4,
  "nbformat_minor": 0
}